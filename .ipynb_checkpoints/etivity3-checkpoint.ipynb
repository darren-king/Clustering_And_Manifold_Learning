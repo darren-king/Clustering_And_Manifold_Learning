{
 "cells": [
  {
   "cell_type": "markdown",
   "id": "e07f911e",
   "metadata": {},
   "source": [
    "# Clustering and Manifold Learning  "
   ]
  },
  {
   "cell_type": "markdown",
   "id": "f4bb8f50",
   "metadata": {},
   "source": [
    "Name: Darren King\n",
    "Student_ID: 17145031"
   ]
  },
  {
   "cell_type": "code",
   "execution_count": 1,
   "id": "22c7fdb2",
   "metadata": {},
   "outputs": [
    {
     "ename": "RuntimeError",
     "evalue": "module compiled against API version 0xe but this version of numpy is 0xd",
     "output_type": "error",
     "traceback": [
      "\u001b[0;31m---------------------------------------------------------------------------\u001b[0m",
      "\u001b[0;31mRuntimeError\u001b[0m                              Traceback (most recent call last)",
      "\u001b[0;31mRuntimeError\u001b[0m: module compiled against API version 0xe but this version of numpy is 0xd"
     ]
    }
   ],
   "source": [
    "import pandas as pd\n",
    "import numpy as np\n",
    "import matplotlib.pyplot as plt\n",
    "\n",
    "from sklearn import manifold #needed for multidimensional scaling (MDS) and t-SNE\n",
    "from sklearn import cluster #needed for k-Means clustering\n",
    "from sklearn import preprocessing #needed for scaling attributes to the nterval [0,1]"
   ]
  },
  {
   "cell_type": "code",
   "execution_count": null,
   "id": "3af88307",
   "metadata": {},
   "outputs": [],
   "source": []
  },
  {
   "cell_type": "code",
   "execution_count": 2,
   "id": "629474ea",
   "metadata": {},
   "outputs": [
    {
     "name": "stdout",
     "output_type": "stream",
     "text": [
      "<class 'pandas.core.frame.DataFrame'>\n",
      "RangeIndex: 614 entries, 0 to 613\n",
      "Data columns (total 16 columns):\n",
      " #   Column                   Non-Null Count  Dtype  \n",
      "---  ------                   --------------  -----  \n",
      " 0   Dependents               614 non-null    float64\n",
      " 1   ApplicantIncome          614 non-null    float64\n",
      " 2   LoanAmount               614 non-null    float64\n",
      " 3   Loan_Amount_Term         614 non-null    float64\n",
      " 4   Credit_History           614 non-null    int64  \n",
      " 5   Gender_Male              614 non-null    int64  \n",
      " 6   Gender_nan               614 non-null    int64  \n",
      " 7   Married_Yes              614 non-null    int64  \n",
      " 8   Married_nan              614 non-null    int64  \n",
      " 9   Self_Employed_Yes        614 non-null    int64  \n",
      " 10  Self_Employed_nan        614 non-null    int64  \n",
      " 11  Education_Not Graduate   614 non-null    int64  \n",
      " 12  Property_Area_Semiurban  614 non-null    int64  \n",
      " 13  Property_Area_Urban      614 non-null    int64  \n",
      " 14  Loan_Status_Y            614 non-null    int64  \n",
      " 15  TotalIncome              614 non-null    float64\n",
      "dtypes: float64(5), int64(11)\n",
      "memory usage: 76.9 KB\n",
      "None\n"
     ]
    }
   ],
   "source": [
    "# Load in the dataset \n",
    "\n",
    "df = pd.read_csv(\"./loans_train_prepared-1.csv\")\n",
    "print(df.info())"
   ]
  },
  {
   "cell_type": "code",
   "execution_count": 5,
   "id": "42b67bf9",
   "metadata": {},
   "outputs": [
    {
     "name": "stdout",
     "output_type": "stream",
     "text": [
      "Number of examples: 614\n",
      "Number of attributes per example: 16\n"
     ]
    }
   ],
   "source": [
    "# Load data into a numpy array\n",
    "data = np.array(df.values)\n",
    "print('Number of examples:', data.shape[0])\n",
    "print('Number of attributes per example:', data.shape[1])"
   ]
  },
  {
   "cell_type": "markdown",
   "id": "aab421fb",
   "metadata": {},
   "source": [
    "We don't need to concern ourselves with casting everything to a 64 bit float or a 64 bit integer at this point. "
   ]
  },
  {
   "cell_type": "code",
   "execution_count": null,
   "id": "6ea194ee",
   "metadata": {},
   "outputs": [],
   "source": []
  },
  {
   "cell_type": "code",
   "execution_count": null,
   "id": "f15fcd78",
   "metadata": {},
   "outputs": [],
   "source": []
  },
  {
   "cell_type": "code",
   "execution_count": null,
   "id": "18170f11",
   "metadata": {},
   "outputs": [],
   "source": []
  },
  {
   "cell_type": "code",
   "execution_count": null,
   "id": "d668f533",
   "metadata": {},
   "outputs": [],
   "source": []
  },
  {
   "cell_type": "code",
   "execution_count": null,
   "id": "c3461c02",
   "metadata": {},
   "outputs": [],
   "source": []
  },
  {
   "cell_type": "code",
   "execution_count": null,
   "id": "c0dd1d15",
   "metadata": {},
   "outputs": [],
   "source": []
  },
  {
   "cell_type": "code",
   "execution_count": null,
   "id": "c2090fb9",
   "metadata": {},
   "outputs": [],
   "source": []
  },
  {
   "cell_type": "code",
   "execution_count": null,
   "id": "83229da3",
   "metadata": {},
   "outputs": [],
   "source": []
  },
  {
   "cell_type": "code",
   "execution_count": null,
   "id": "65910632",
   "metadata": {},
   "outputs": [],
   "source": []
  }
 ],
 "metadata": {
  "kernelspec": {
   "display_name": "Python 3 (ipykernel)",
   "language": "python",
   "name": "python3"
  },
  "language_info": {
   "codemirror_mode": {
    "name": "ipython",
    "version": 3
   },
   "file_extension": ".py",
   "mimetype": "text/x-python",
   "name": "python",
   "nbconvert_exporter": "python",
   "pygments_lexer": "ipython3",
   "version": "3.9.7"
  }
 },
 "nbformat": 4,
 "nbformat_minor": 5
}
